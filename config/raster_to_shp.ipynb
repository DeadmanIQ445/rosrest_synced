{
 "cells": [
  {
   "cell_type": "code",
   "execution_count": 10,
   "metadata": {
    "collapsed": true
   },
   "outputs": [],
   "source": [
    "import os\n",
    "from pathlib import Path\n",
    "from tqdm import tqdm"
   ]
  },
  {
   "cell_type": "code",
   "execution_count": 11,
   "outputs": [],
   "source": [
    "tiff_folder = Path('/home/shamil/results_algos')\n",
    "shp_folder = Path('/home/shamil/Desktop/inference_shp/')\n",
    "tmp_dir - Path()"
   ],
   "metadata": {
    "collapsed": false,
    "pycharm": {
     "name": "#%%\n"
    }
   }
  },
  {
   "cell_type": "code",
   "execution_count": 19,
   "outputs": [
    {
     "name": "stderr",
     "output_type": "stream",
     "text": [
      "350it [00:00, 32315.01it/s]\n"
     ]
    }
   ],
   "source": [
    "for tiff in tqdm(tiff_folder.glob(\"**/*\")):\n",
    "\tif tiff.is_file():\n",
    "\t\tpass\n",
    "\t\t# stem = tiff.stem\n",
    "\t\t#\n",
    "\t\t# output_folder = shp_folder / stem\n",
    "\t\t#\n",
    "\t\t# os.system(\"gdal_polygonize.py \"\n",
    "\t\t#           f\"{str(tiff)} \"\n",
    "\t\t#           f\"{str(output_folder)}\")\n",
    "\telse:\n",
    "\t\tprint(f\"{str(tiff)} is not a file!\")"
   ],
   "metadata": {
    "collapsed": false,
    "pycharm": {
     "name": "#%%\n"
    }
   }
  }
 ],
 "metadata": {
  "kernelspec": {
   "display_name": "Python 3",
   "language": "python",
   "name": "python3"
  },
  "language_info": {
   "codemirror_mode": {
    "name": "ipython",
    "version": 2
   },
   "file_extension": ".py",
   "mimetype": "text/x-python",
   "name": "python",
   "nbconvert_exporter": "python",
   "pygments_lexer": "ipython2",
   "version": "2.7.6"
  }
 },
 "nbformat": 4,
 "nbformat_minor": 0
}