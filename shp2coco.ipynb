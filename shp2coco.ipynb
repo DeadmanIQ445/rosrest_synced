{
 "cells": [
  {
   "cell_type": "markdown",
   "metadata": {
    "pycharm": {
     "name": "#%% md\n"
    }
   },
   "source": [
    "## Data imports"
   ]
  },
  {
   "cell_type": "code",
   "execution_count": 1,
   "metadata": {
    "pycharm": {
     "name": "#%%\n"
    }
   },
   "outputs": [],
   "source": [
    "import datetime\n",
    "import json\n",
    "import re\n",
    "import fnmatch\n",
    "from utils.preprocess import pycococreatortools\n",
    "from utils.preprocess.tif_process import *\n",
    "from utils.preprocess.slice_dataset import slice"
   ]
  },
  {
   "cell_type": "markdown",
   "metadata": {
    "pycharm": {
     "name": "#%% md\n"
    }
   },
   "source": [
    "Specify parameters of dataset"
   ]
  },
  {
   "cell_type": "code",
   "execution_count": 6,
   "metadata": {
    "pycharm": {
     "name": "#%%\n"
    }
   },
   "outputs": [],
   "source": [
    "# root path for saving the tif and shp file.\n",
    "ROOT = r'/home/ari/data/ZU/fixed_20220222/train'\n",
    "img_path = 'Raster'\n",
    "shp_path = 'Razmetka2'\n",
    "\n",
    "# root path for saving the mask.\n",
    "ROOT_DIR = ROOT + '/dataset_1256'\n",
    "IMAGE_DIR = os.path.join(ROOT_DIR, \"uchastok_2019\")\n",
    "ANNOTATION_DIR = os.path.join(ROOT_DIR, \"annotations\")\n",
    "\n",
    "clip_size = 1256"
   ]
  },
  {
   "cell_type": "markdown",
   "metadata": {
    "pycharm": {
     "name": "#%% md\n"
    }
   },
   "source": [
    "## Configs (do not change)"
   ]
  },
  {
   "cell_type": "code",
   "execution_count": 7,
   "metadata": {
    "pycharm": {
     "name": "#%%\n"
    }
   },
   "outputs": [],
   "source": [
    "INFO = {\n",
    "    \"description\": \"ZemleUchastki\",\n",
    "    \"url\": \"\",\n",
    "    \"version\": \"0.1.1\",\n",
    "    \"year\": 2021,\n",
    "    \"contributor\": \"Ibragim, Shamil\",\n",
    "    \"date_created\": datetime.datetime.utcnow().isoformat(' ')\n",
    "}\n",
    "\n",
    "LICENSES = [\n",
    "    {\n",
    "        \"id\": 1,\n",
    "        \"name\": \"\",\n",
    "        \"url\": \"\"\n",
    "    }\n",
    "]\n",
    "\n",
    "CATEGORIES = [\n",
    "    {\n",
    "        'id': 1,\n",
    "        'name': 'uchastok',\n",
    "        'supercategory': 'land',\n",
    "    },\n",
    "]"
   ]
  },
  {
   "cell_type": "markdown",
   "metadata": {
    "pycharm": {
     "name": "#%% md\n"
    }
   },
   "source": [
    "## Code (do not change)"
   ]
  },
  {
   "cell_type": "code",
   "execution_count": 8,
   "metadata": {
    "pycharm": {
     "name": "#%%\n"
    }
   },
   "outputs": [],
   "source": [
    "def filter_for_jpeg(root, files):\n",
    "    # file_types = ['*.jpeg', '*.jpg']\n",
    "    file_types = ['*.tiff', '*.tif']\n",
    "    file_types = r'|'.join([fnmatch.translate(x) for x in file_types])\n",
    "    files = [os.path.join(root, f) for f in files]\n",
    "    files = [f for f in files if re.match(file_types, f)]\n",
    "\n",
    "    return files\n",
    "\n",
    "def filter_for_annotations(root, files, image_filename):\n",
    "    # file_types = ['*.png']\n",
    "    file_types = ['*.tif']\n",
    "    file_types = r'|'.join([fnmatch.translate(x) for x in file_types])\n",
    "    basename_no_extension = os.path.splitext(os.path.basename(image_filename))[0]\n",
    "    # file_name_prefix = basename_no_extension + '.*'\n",
    "    files = [os.path.join(root, f) for f in files]\n",
    "    files = [f for f in files if re.match(file_types, f)]\n",
    "    # files = [f for f in files if re.match(file_name_prefix, os.path.splitext(os.path.basename(f))[0])]\n",
    "    files = [f for f in files if basename_no_extension == os.path.splitext(os.path.basename(f))[0].split('_', 1)[0]]\n",
    "\n",
    "    return files\n",
    "\n",
    "def from_mask_to_coco(root, MARK, IMAGE, ANNOTATION):\n",
    "    ROOT_DIR = root + '/' + MARK\n",
    "    IMAGE_DIR = ROOT_DIR + '/' + IMAGE\n",
    "    ANNOTATION_DIR = ROOT_DIR + '/' + ANNOTATION\n",
    "    if os.path.exists(ROOT_DIR):\n",
    "        coco_output = {\n",
    "            \"info\": INFO,\n",
    "            \"licenses\": LICENSES,\n",
    "            \"categories\": CATEGORIES,\n",
    "            \"images\": [],\n",
    "            \"annotations\": []\n",
    "        }\n",
    "\n",
    "        image_id = 1\n",
    "        segmentation_id = 1\n",
    "\n",
    "        # filter for jpeg images\n",
    "        for root, _, files in os.walk(IMAGE_DIR):\n",
    "            image_files = filter_for_jpeg(root, files)\n",
    "\n",
    "            # go through each image\n",
    "            for image_filename in image_files:\n",
    "                image = Image.open(image_filename)\n",
    "                image_info = pycococreatortools.create_image_info(\n",
    "                    image_id, os.path.basename(image_filename), image.size)\n",
    "                coco_output[\"images\"].append(image_info)\n",
    "\n",
    "                # filter for associated png annotations\n",
    "                for root, _, files in os.walk(ANNOTATION_DIR):\n",
    "                    annotation_files = filter_for_annotations(root, files, image_filename)\n",
    "\n",
    "                    # go through each associated annotation\n",
    "                    for annotation_filename in annotation_files:\n",
    "\n",
    "                        print(annotation_filename)\n",
    "                        class_id = [x['id'] for x in CATEGORIES if x['name'] in annotation_filename][0]\n",
    "\n",
    "                        category_info = {'id': class_id, 'is_crowd': 'crowd' in image_filename}\n",
    "                        binary_mask = np.asarray(Image.open(annotation_filename)\n",
    "                                                 .convert('1')).astype(np.uint8)\n",
    "\n",
    "                        annotation_info = pycococreatortools.create_annotation_info(\n",
    "                            segmentation_id, image_id, category_info, binary_mask,\n",
    "                            image.size, tolerance=2)\n",
    "\n",
    "                        if annotation_info is not None:\n",
    "                            coco_output[\"annotations\"].append(annotation_info)\n",
    "\n",
    "                        segmentation_id = segmentation_id + 1\n",
    "\n",
    "                image_id = image_id + 1\n",
    "\n",
    "        with open('{}/uchastok_{}2021.json'.format(ROOT_DIR, MARK), 'w') as output_json_file:\n",
    "            json.dump(coco_output, output_json_file)\n",
    "    else:\n",
    "        print(ROOT_DIR + ' does not exit!')"
   ]
  },
  {
   "cell_type": "markdown",
   "metadata": {
    "pycharm": {
     "name": "#%% md\n"
    }
   },
   "source": [
    "## Launching code"
   ]
  },
  {
   "cell_type": "code",
   "execution_count": 9,
   "metadata": {
    "pycharm": {
     "name": "#%%\n"
    },
    "scrolled": true,
    "tags": []
   },
   "outputs": [
    {
     "name": "stdout",
     "output_type": "stream",
     "text": [
      "create dir /home/ari/data/ZU/fixed_20220222/train/dataset_1256/annotations\n",
      "create dir /home/ari/data/ZU/fixed_20220222/train/dataset_1256/uchastok_2021\n"
     ]
    },
    {
     "ename": "KeyboardInterrupt",
     "evalue": "",
     "output_type": "error",
     "traceback": [
      "\u001B[0;31m---------------------------------------------------------------------------\u001B[0m",
      "\u001B[0;31mKeyboardInterrupt\u001B[0m                         Traceback (most recent call last)",
      "Input \u001B[0;32mIn [9]\u001B[0m, in \u001B[0;36m<cell line: 8>\u001B[0;34m()\u001B[0m\n\u001B[1;32m      6\u001B[0m     from_mask_to_coco(ROOT_DIR, \u001B[38;5;124m'\u001B[39m\u001B[38;5;124mtest\u001B[39m\u001B[38;5;124m'\u001B[39m, \u001B[38;5;124m\"\u001B[39m\u001B[38;5;124muchastok_2021\u001B[39m\u001B[38;5;124m\"\u001B[39m, \u001B[38;5;124m\"\u001B[39m\u001B[38;5;124mannotations\u001B[39m\u001B[38;5;124m\"\u001B[39m)\n\u001B[1;32m      8\u001B[0m \u001B[38;5;28;01mif\u001B[39;00m \u001B[38;5;18m__name__\u001B[39m \u001B[38;5;241m==\u001B[39m \u001B[38;5;124m\"\u001B[39m\u001B[38;5;124m__main__\u001B[39m\u001B[38;5;124m\"\u001B[39m:\n\u001B[0;32m----> 9\u001B[0m     \u001B[43mmain\u001B[49m\u001B[43m(\u001B[49m\u001B[43m)\u001B[49m\n",
      "Input \u001B[0;32mIn [9]\u001B[0m, in \u001B[0;36mmain\u001B[0;34m()\u001B[0m\n\u001B[1;32m      1\u001B[0m \u001B[38;5;28;01mdef\u001B[39;00m \u001B[38;5;21mmain\u001B[39m():\n\u001B[1;32m      2\u001B[0m     clip_from_file(clip_size, ROOT, img_path, shp_path, ROOT_DIR)\n\u001B[0;32m----> 3\u001B[0m     \u001B[38;5;28;43mslice\u001B[39;49m\u001B[43m(\u001B[49m\u001B[43mROOT_DIR\u001B[49m\u001B[43m,\u001B[49m\u001B[43m \u001B[49m\u001B[43mtrain\u001B[49m\u001B[38;5;241;43m=\u001B[39;49m\u001B[38;5;241;43m0.8\u001B[39;49m\u001B[43m,\u001B[49m\u001B[43m \u001B[49m\u001B[38;5;28;43meval\u001B[39;49m\u001B[38;5;241;43m=\u001B[39;49m\u001B[38;5;241;43m0.15\u001B[39;49m\u001B[43m,\u001B[49m\u001B[43m \u001B[49m\u001B[43mtest\u001B[49m\u001B[38;5;241;43m=\u001B[39;49m\u001B[38;5;241;43m0.05\u001B[39;49m\u001B[43m)\u001B[49m\n\u001B[1;32m      4\u001B[0m     from_mask_to_coco(ROOT_DIR, \u001B[38;5;124m'\u001B[39m\u001B[38;5;124mtrain\u001B[39m\u001B[38;5;124m'\u001B[39m, \u001B[38;5;124m\"\u001B[39m\u001B[38;5;124muchastok_2021\u001B[39m\u001B[38;5;124m\"\u001B[39m, \u001B[38;5;124m\"\u001B[39m\u001B[38;5;124mannotations\u001B[39m\u001B[38;5;124m\"\u001B[39m)\n\u001B[1;32m      5\u001B[0m     from_mask_to_coco(ROOT_DIR, \u001B[38;5;124m'\u001B[39m\u001B[38;5;124meval\u001B[39m\u001B[38;5;124m'\u001B[39m, \u001B[38;5;124m\"\u001B[39m\u001B[38;5;124muchastok_2021\u001B[39m\u001B[38;5;124m\"\u001B[39m, \u001B[38;5;124m\"\u001B[39m\u001B[38;5;124mannotations\u001B[39m\u001B[38;5;124m\"\u001B[39m)\n",
      "File \u001B[0;32m~/PycharmProjects/repos/rosrest_synced/utils/preprocess/slice_dataset.py:68\u001B[0m, in \u001B[0;36mslice\u001B[0;34m(input_path, train, eval, test)\u001B[0m\n\u001B[1;32m     66\u001B[0m np\u001B[38;5;241m.\u001B[39mrandom\u001B[38;5;241m.\u001B[39mshuffle(img_id)\n\u001B[1;32m     67\u001B[0m train_id, eval_id, test_id \u001B[38;5;241m=\u001B[39m img_id[:n_train], img_id[n_train: n_train\u001B[38;5;241m+\u001B[39mn_eval], img_id[n_train\u001B[38;5;241m+\u001B[39mn_eval:]\n\u001B[0;32m---> 68\u001B[0m \u001B[43mcopy_data\u001B[49m\u001B[43m(\u001B[49m\u001B[43minput_path\u001B[49m\u001B[43m,\u001B[49m\u001B[43m \u001B[49m\u001B[43mtrain_id\u001B[49m\u001B[43m,\u001B[49m\u001B[43m \u001B[49m\u001B[43mn_train\u001B[49m\u001B[43m,\u001B[49m\u001B[43m \u001B[49m\u001B[38;5;124;43m'\u001B[39;49m\u001B[38;5;124;43mtrain\u001B[39;49m\u001B[38;5;124;43m'\u001B[39;49m\u001B[43m)\u001B[49m\n\u001B[1;32m     69\u001B[0m copy_data(input_path, eval_id, n_eval, \u001B[38;5;124m'\u001B[39m\u001B[38;5;124meval\u001B[39m\u001B[38;5;124m'\u001B[39m)\n\u001B[1;32m     70\u001B[0m copy_data(input_path, test_id, n_test, \u001B[38;5;124m'\u001B[39m\u001B[38;5;124mtest\u001B[39m\u001B[38;5;124m'\u001B[39m)\n",
      "File \u001B[0;32m~/PycharmProjects/repos/rosrest_synced/utils/preprocess/slice_dataset.py:33\u001B[0m, in \u001B[0;36mcopy_data\u001B[0;34m(input_path, id, num, mark)\u001B[0m\n\u001B[1;32m     30\u001B[0m     os\u001B[38;5;241m.\u001B[39mmakedirs(input_path \u001B[38;5;241m+\u001B[39m \u001B[38;5;124m'\u001B[39m\u001B[38;5;124m/\u001B[39m\u001B[38;5;124m'\u001B[39m \u001B[38;5;241m+\u001B[39m mark \u001B[38;5;241m+\u001B[39m \u001B[38;5;124m'\u001B[39m\u001B[38;5;124m/\u001B[39m\u001B[38;5;124m'\u001B[39m \u001B[38;5;241m+\u001B[39m ann_path)\n\u001B[1;32m     32\u001B[0m \u001B[38;5;28;01mfor\u001B[39;00m i \u001B[38;5;129;01min\u001B[39;00m \u001B[38;5;28mrange\u001B[39m(num):\n\u001B[0;32m---> 33\u001B[0m     \u001B[43mshutil\u001B[49m\u001B[38;5;241;43m.\u001B[39;49m\u001B[43mcopy\u001B[49m\u001B[43m(\u001B[49m\u001B[43minput_path\u001B[49m\u001B[43m \u001B[49m\u001B[38;5;241;43m+\u001B[39;49m\u001B[43m \u001B[49m\u001B[38;5;124;43m'\u001B[39;49m\u001B[38;5;124;43m/\u001B[39;49m\u001B[38;5;124;43m'\u001B[39;49m\u001B[43m \u001B[49m\u001B[38;5;241;43m+\u001B[39;49m\u001B[43m \u001B[49m\u001B[43mimg_path\u001B[49m\u001B[43m \u001B[49m\u001B[38;5;241;43m+\u001B[39;49m\u001B[43m \u001B[49m\u001B[38;5;124;43m'\u001B[39;49m\u001B[38;5;124;43m/\u001B[39;49m\u001B[38;5;124;43m'\u001B[39;49m\u001B[43m \u001B[49m\u001B[38;5;241;43m+\u001B[39;49m\u001B[43m \u001B[49m\u001B[38;5;28;43mlist\u001B[39;49m\u001B[43m[\u001B[49m\u001B[38;5;28;43mid\u001B[39;49m\u001B[43m[\u001B[49m\u001B[43mi\u001B[49m\u001B[43m]\u001B[49m\u001B[43m]\u001B[49m\u001B[43m,\u001B[49m\u001B[43m \u001B[49m\u001B[43minput_path\u001B[49m\u001B[43m \u001B[49m\u001B[38;5;241;43m+\u001B[39;49m\u001B[43m \u001B[49m\u001B[38;5;124;43m'\u001B[39;49m\u001B[38;5;124;43m/\u001B[39;49m\u001B[38;5;124;43m'\u001B[39;49m\u001B[43m \u001B[49m\u001B[38;5;241;43m+\u001B[39;49m\u001B[43m \u001B[49m\u001B[43mmark\u001B[49m\u001B[43m \u001B[49m\u001B[38;5;241;43m+\u001B[39;49m\u001B[43m \u001B[49m\u001B[38;5;124;43m'\u001B[39;49m\u001B[38;5;124;43m/\u001B[39;49m\u001B[38;5;124;43m'\u001B[39;49m\u001B[43m \u001B[49m\u001B[38;5;241;43m+\u001B[39;49m\u001B[43m \u001B[49m\u001B[43mimg_path\u001B[49m\n\u001B[1;32m     34\u001B[0m \u001B[43m                \u001B[49m\u001B[38;5;241;43m+\u001B[39;49m\u001B[43m \u001B[49m\u001B[38;5;124;43m'\u001B[39;49m\u001B[38;5;124;43m/\u001B[39;49m\u001B[38;5;124;43m'\u001B[39;49m\u001B[43m \u001B[49m\u001B[38;5;241;43m+\u001B[39;49m\u001B[43m \u001B[49m\u001B[38;5;28;43mlist\u001B[39;49m\u001B[43m[\u001B[49m\u001B[38;5;28;43mid\u001B[39;49m\u001B[43m[\u001B[49m\u001B[43mi\u001B[49m\u001B[43m]\u001B[49m\u001B[43m]\u001B[49m\u001B[43m)\u001B[49m\n\u001B[1;32m     35\u001B[0m     \u001B[38;5;66;03m# print('From src: ' + img_path + '/' + list[id[i]] + ' =>dst:' + '/' + mark + '/' + img_path\u001B[39;00m\n\u001B[1;32m     36\u001B[0m     \u001B[38;5;66;03m#       + '/' + list[id[i]])\u001B[39;00m\n\u001B[1;32m     37\u001B[0m     annotation_files \u001B[38;5;241m=\u001B[39m filter_for_annotations(input_path, ann_list, \u001B[38;5;28mlist\u001B[39m[\u001B[38;5;28mid\u001B[39m[i]])\n",
      "File \u001B[0;32m/usr/lib/python3.8/shutil.py:418\u001B[0m, in \u001B[0;36mcopy\u001B[0;34m(src, dst, follow_symlinks)\u001B[0m\n\u001B[1;32m    416\u001B[0m \u001B[38;5;28;01mif\u001B[39;00m os\u001B[38;5;241m.\u001B[39mpath\u001B[38;5;241m.\u001B[39misdir(dst):\n\u001B[1;32m    417\u001B[0m     dst \u001B[38;5;241m=\u001B[39m os\u001B[38;5;241m.\u001B[39mpath\u001B[38;5;241m.\u001B[39mjoin(dst, os\u001B[38;5;241m.\u001B[39mpath\u001B[38;5;241m.\u001B[39mbasename(src))\n\u001B[0;32m--> 418\u001B[0m \u001B[43mcopyfile\u001B[49m\u001B[43m(\u001B[49m\u001B[43msrc\u001B[49m\u001B[43m,\u001B[49m\u001B[43m \u001B[49m\u001B[43mdst\u001B[49m\u001B[43m,\u001B[49m\u001B[43m \u001B[49m\u001B[43mfollow_symlinks\u001B[49m\u001B[38;5;241;43m=\u001B[39;49m\u001B[43mfollow_symlinks\u001B[49m\u001B[43m)\u001B[49m\n\u001B[1;32m    419\u001B[0m copymode(src, dst, follow_symlinks\u001B[38;5;241m=\u001B[39mfollow_symlinks)\n\u001B[1;32m    420\u001B[0m \u001B[38;5;28;01mreturn\u001B[39;00m dst\n",
      "File \u001B[0;32m/usr/lib/python3.8/shutil.py:275\u001B[0m, in \u001B[0;36mcopyfile\u001B[0;34m(src, dst, follow_symlinks)\u001B[0m\n\u001B[1;32m    273\u001B[0m \u001B[38;5;28;01melif\u001B[39;00m _USE_CP_SENDFILE:\n\u001B[1;32m    274\u001B[0m     \u001B[38;5;28;01mtry\u001B[39;00m:\n\u001B[0;32m--> 275\u001B[0m         \u001B[43m_fastcopy_sendfile\u001B[49m\u001B[43m(\u001B[49m\u001B[43mfsrc\u001B[49m\u001B[43m,\u001B[49m\u001B[43m \u001B[49m\u001B[43mfdst\u001B[49m\u001B[43m)\u001B[49m\n\u001B[1;32m    276\u001B[0m         \u001B[38;5;28;01mreturn\u001B[39;00m dst\n\u001B[1;32m    277\u001B[0m     \u001B[38;5;28;01mexcept\u001B[39;00m _GiveupOnFastCopy:\n",
      "File \u001B[0;32m/usr/lib/python3.8/shutil.py:152\u001B[0m, in \u001B[0;36m_fastcopy_sendfile\u001B[0;34m(fsrc, fdst)\u001B[0m\n\u001B[1;32m    150\u001B[0m \u001B[38;5;28;01mwhile\u001B[39;00m \u001B[38;5;28;01mTrue\u001B[39;00m:\n\u001B[1;32m    151\u001B[0m     \u001B[38;5;28;01mtry\u001B[39;00m:\n\u001B[0;32m--> 152\u001B[0m         sent \u001B[38;5;241m=\u001B[39m \u001B[43mos\u001B[49m\u001B[38;5;241;43m.\u001B[39;49m\u001B[43msendfile\u001B[49m\u001B[43m(\u001B[49m\u001B[43moutfd\u001B[49m\u001B[43m,\u001B[49m\u001B[43m \u001B[49m\u001B[43minfd\u001B[49m\u001B[43m,\u001B[49m\u001B[43m \u001B[49m\u001B[43moffset\u001B[49m\u001B[43m,\u001B[49m\u001B[43m \u001B[49m\u001B[43mblocksize\u001B[49m\u001B[43m)\u001B[49m\n\u001B[1;32m    153\u001B[0m     \u001B[38;5;28;01mexcept\u001B[39;00m \u001B[38;5;167;01mOSError\u001B[39;00m \u001B[38;5;28;01mas\u001B[39;00m err:\n\u001B[1;32m    154\u001B[0m         \u001B[38;5;66;03m# ...in oder to have a more informative exception.\u001B[39;00m\n\u001B[1;32m    155\u001B[0m         err\u001B[38;5;241m.\u001B[39mfilename \u001B[38;5;241m=\u001B[39m fsrc\u001B[38;5;241m.\u001B[39mname\n",
      "\u001B[0;31mKeyboardInterrupt\u001B[0m: "
     ]
    }
   ],
   "source": [
    "def main():\n",
    "    clip_from_file(clip_size, ROOT, img_path, shp_path, ROOT_DIR)\n",
    "    slice(ROOT_DIR, train=0.8, eval=0.15, test=0.05)\n",
    "    from_mask_to_coco(ROOT_DIR, 'train', \"uchastok_2021\", \"annotations\")\n",
    "    from_mask_to_coco(ROOT_DIR, 'eval', \"uchastok_2021\", \"annotations\")\n",
    "    from_mask_to_coco(ROOT_DIR, 'test', \"uchastok_2021\", \"annotations\")\n",
    "\n",
    "if __name__ == \"__main__\":\n",
    "    main()"
   ]
  },
  {
   "cell_type": "code",
   "execution_count": null,
   "metadata": {
    "pycharm": {
     "name": "#%%\n"
    }
   },
   "outputs": [],
   "source": []
  }
 ],
 "metadata": {
  "kernelspec": {
   "display_name": "Python 3 (ipykernel)",
   "language": "python",
   "name": "python3"
  },
  "language_info": {
   "codemirror_mode": {
    "name": "ipython",
    "version": 3
   },
   "file_extension": ".py",
   "mimetype": "text/x-python",
   "name": "python",
   "nbconvert_exporter": "python",
   "pygments_lexer": "ipython3",
   "version": "3.9.6"
  }
 },
 "nbformat": 4,
 "nbformat_minor": 4
}