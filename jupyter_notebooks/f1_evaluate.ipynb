{
 "cells": [
  {
   "cell_type": "code",
   "execution_count": null,
   "metadata": {
    "collapsed": true
   },
   "outputs": [],
   "source": [
    "from pathlib import Path\n",
    "import sys\n",
    "import cv2\n",
    "import torch\n",
    "import pandas as pd\n",
    "import os\n",
    "import contextlib\n",
    "import tqdm\n",
    "\n",
    "from detectron2.config import get_cfg\n",
    "from detectron2.modeling import build_model\n",
    "from detectron2.checkpoint import DetectionCheckpointer\n",
    "\n",
    "sys.path.append(\"/home/shamil/AILab/Rosreest\")\n",
    "\n",
    "from utils.polygons.io import extract_polygons_from_coco\n",
    "from utils.polygons.io import masks_to_polygons\n",
    "from utils.polygons.metrics import instance_f1_score\n"
   ]
  },
  {
   "cell_type": "code",
   "execution_count": 2,
   "outputs": [],
   "source": [
    "dataset_folder = Path('/home/shamil/AILab/new_data/dataset/test/')\n",
    "dst_file = Path('/home/shamil/AILab/new_data/dataset/test/metrics.csv')\n",
    "\n",
    "config_file = Path('/home/shamil/AILab/Rosreest/config/mask_rcnn_R_50_FPN_3x.yaml')\n",
    "weights_path = Path(\"/home/shamil/AILab/artificial_cartographer/artificial_cartographer\"\n",
    "                    \"/model_weights/aerial_summer_pieceofland.pth\")\n",
    "metrics = 'f_score'\n",
    "device = 'cpu'\n",
    "\n",
    "assert dataset_folder.is_dir()\n",
    "assert config_file.is_file()\n",
    "assert weights_path.is_file()\n",
    "\n",
    "assert metrics == 'f_score'"
   ],
   "metadata": {
    "collapsed": false,
    "pycharm": {
     "name": "#%%\n"
    }
   }
  },
  {
   "cell_type": "code",
   "execution_count": 3,
   "outputs": [],
   "source": [
    "annotation_file = dataset_folder / 'uchastok_test2021.json'\n",
    "assert annotation_file.is_file()\n",
    "\n",
    "annotations = extract_polygons_from_coco(annotation_file)\n"
   ],
   "metadata": {
    "collapsed": false,
    "pycharm": {
     "name": "#%%\n"
    }
   }
  },
  {
   "cell_type": "code",
   "execution_count": 3,
   "outputs": [],
   "source": [
    "annotations[1]"
   ],
   "metadata": {
    "collapsed": false,
    "pycharm": {
     "name": "#%%\n"
    }
   }
  },
  {
   "cell_type": "code",
   "execution_count": 5,
   "outputs": [],
   "source": [
    "with open(os.devnull, 'w') as devnull:\n",
    "    with contextlib.redirect_stdout(devnull):\n",
    "        cfg = get_cfg()\n",
    "        cfg.merge_from_file(config_file)\n",
    "        cfg.MODEL.DEVICE = device\n",
    "\n",
    "        model = build_model(cfg)\n",
    "\n",
    "        DetectionCheckpointer(model).load(str(weights_path))\n",
    "        model.eval()"
   ],
   "metadata": {
    "collapsed": false,
    "pycharm": {
     "name": "#%%\n"
    }
   }
  },
  {
   "cell_type": "code",
   "execution_count": 2,
   "outputs": [],
   "source": [
    "result = pd.DataFrame({}, columns=['image_name', 'f_score'])\n",
    "\n",
    "for image_id, meta in tqdm.tqdm(annotations.items(), total=385):\n",
    "\n",
    "    image_name = meta['file_name']\n",
    "    gt_polygons = meta['polygons']\n",
    "\n",
    "    # print(f\"Processing image_name={image_name}, image_id={image_id}\")\n",
    "\n",
    "    image_path = dataset_folder / 'uchastok_2021' / image_name\n",
    "    image = cv2.imread(str(image_path))\n",
    "    height, width = image.shape[:2]\n",
    "\n",
    "    with torch.no_grad():\n",
    "        image_np = image.astype(\"float32\").transpose(2, 0, 1)\n",
    "        image = torch.as_tensor(image_np, device=device)\n",
    "        inputs = {'image': image, 'height': height, 'width': width}\n",
    "\n",
    "        y = model.forward([inputs])\n",
    "        instances = y[0]['instances'].to(device)\n",
    "        masks = instances.pred_masks.numpy().astype('uint8')\n",
    "\n",
    "    pred_polygons = masks_to_polygons(masks)\n",
    "\n",
    "    f_score, _ = instance_f1_score(\n",
    "        gt=gt_polygons,\n",
    "        pred=pred_polygons,\n",
    "        _format='vector',\n",
    "        iou_threshold=0.5\n",
    "    )\n",
    "\n",
    "    result = result.append({\"image_name\": image_name, \"f_score\": f_score, 'gt': gt_polygons, \"pred\": pred_polygons}, ignore_index=True)\n",
    "\n",
    "result[[\"image_name\", \"f_score\"]].to_csv(dst_file)"
   ],
   "metadata": {
    "collapsed": false,
    "pycharm": {
     "name": "#%%\n"
    }
   }
  },
  {
   "cell_type": "code",
   "execution_count": 1,
   "outputs": [],
   "source": [
    "result.head(10)\n"
   ],
   "metadata": {
    "collapsed": false,
    "pycharm": {
     "name": "#%%\n"
    }
   }
  },
  {
   "cell_type": "code",
   "execution_count": null,
   "outputs": [],
   "source": [
    "print(f\"Mean f_score: {result['f_score'].mean()}\")\n"
   ],
   "metadata": {
    "collapsed": false,
    "pycharm": {
     "name": "#%%\n"
    }
   }
  },
  {
   "cell_type": "code",
   "execution_count": null,
   "outputs": [],
   "source": [],
   "metadata": {
    "collapsed": false,
    "pycharm": {
     "name": "#%%\n"
    }
   }
  },
  {
   "cell_type": "code",
   "execution_count": null,
   "outputs": [],
   "source": [],
   "metadata": {
    "collapsed": false,
    "pycharm": {
     "name": "#%%\n"
    }
   }
  }
 ],
 "metadata": {
  "kernelspec": {
   "display_name": "Python 3",
   "language": "python",
   "name": "python3"
  },
  "language_info": {
   "codemirror_mode": {
    "name": "ipython",
    "version": 2
   },
   "file_extension": ".py",
   "mimetype": "text/x-python",
   "name": "python",
   "nbconvert_exporter": "python",
   "pygments_lexer": "ipython2",
   "version": "2.7.6"
  }
 },
 "nbformat": 4,
 "nbformat_minor": 0
}