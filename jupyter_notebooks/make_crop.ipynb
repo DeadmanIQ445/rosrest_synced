{
 "cells": [
  {
   "cell_type": "code",
   "execution_count": 1,
   "outputs": [],
   "source": [
    "import os\n",
    "import sys\n",
    "sys.path.append('/home/shamil/AILab/Rosreest')"
   ],
   "metadata": {
    "collapsed": false,
    "pycharm": {
     "name": "#%%\n"
    }
   }
  },
  {
   "cell_type": "code",
   "execution_count": 2,
   "metadata": {
    "collapsed": true
   },
   "outputs": [],
   "source": [
    "import datetime\n",
    "import json\n",
    "import re\n",
    "import fnmatch\n",
    "from utils.preprocess import pycococreatortools\n",
    "from utils.preprocess.tif_process import *\n",
    "from utils.preprocess.slice_dataset import slice\n",
    "import shutil\n",
    "from pathlib import Path\n",
    "from utils.preprocess.split_channels import split_channels"
   ]
  },
  {
   "cell_type": "code",
   "execution_count": 3,
   "outputs": [],
   "source": [
    "# root path for saving the tif and shp file.\n",
    "root = Path(r'/home/shamil/AILab/tmp_images')\n",
    "img_path = root / 'Raster'\n",
    "shp_path = root / 'Razmetka'\n",
    "\n",
    "clip_size = 3800\n",
    "\n",
    "clip_folder = root / f\"clip{clip_size}\"\n",
    "\n",
    "if clip_folder.is_dir():\n",
    "    shutil.rmtree(clip_folder)\n",
    "\n",
    "clip_folder.mkdir()\n",
    "\n",
    "bands = clip_folder / 'bands'\n",
    "bands.mkdir(exist_ok=True)\n",
    "\n",
    "ground_truth = clip_folder / 'ground_truth'\n",
    "ground_truth.mkdir(exist_ok=True)\n",
    "\n",
    "with open(clip_folder / 'score_thresholds.json', 'w') as file:\n",
    "    file.write(json.dumps({\"f_score\": 0.9}))\n",
    "\n",
    "# root path for saving the mask.\n",
    "dataset_dir = clip_folder\n",
    "image_dir = dataset_dir /  \"uchastok_2021\"\n",
    "annotations_dir = dataset_dir / \"annotations\""
   ],
   "metadata": {
    "collapsed": false,
    "pycharm": {
     "name": "#%%\n"
    }
   }
  },
  {
   "cell_type": "markdown",
   "source": [
    "## Configs (do not change)\n"
   ],
   "metadata": {
    "collapsed": false
   }
  },
  {
   "cell_type": "code",
   "execution_count": 4,
   "outputs": [],
   "source": [
    "\n",
    "INFO = {\n",
    "    \"description\": \"ZemleUchastki\",\n",
    "    \"url\": \"\",\n",
    "    \"version\": \"0.1.1\",\n",
    "    \"year\": 2021,\n",
    "    \"contributor\": \"Ibragim, Shamil\",\n",
    "    \"date_created\": datetime.datetime.utcnow().isoformat(' ')\n",
    "}\n",
    "\n",
    "LICENSES = [\n",
    "    {\n",
    "        \"id\": 1,\n",
    "        \"name\": \"\",\n",
    "        \"url\": \"\"\n",
    "    }\n",
    "]\n",
    "\n",
    "CATEGORIES = [\n",
    "    {\n",
    "        'id': 1,\n",
    "        'name': 'uchastok',\n",
    "        'supercategory': 'land',\n",
    "    },\n",
    "]\n"
   ],
   "metadata": {
    "collapsed": false,
    "pycharm": {
     "name": "#%%\n"
    }
   }
  },
  {
   "cell_type": "code",
   "execution_count": 5,
   "outputs": [
    {
     "name": "stdout",
     "output_type": "stream",
     "text": [
      "create dir /home/shamil/AILab/tmp_images/clip4096/annotations\n",
      "create dir /home/shamil/AILab/tmp_images/clip4096/uchastok_2021\n",
      "Saving results to: /home/shamil/AILab/tmp_images/clip4096\n"
     ]
    }
   ],
   "source": [
    "\n",
    "def save_clip(image_name: str):\n",
    "    image_path = img_path / image_name\n",
    "\n",
    "    tiff = GeoTiff(str(image_path))\n",
    "    image_id = image_name.split(\".\")[0]\n",
    "\n",
    "    tiff.clip_tif_and_shapefile(\n",
    "        clip_size=clip_size,\n",
    "        begin_id=0,\n",
    "        shapefile_path=str(shp_path / image_id / (image_id + \".shp\")),\n",
    "        out_dir=str(clip_folder)\n",
    "    )\n",
    "\n",
    "    print(f\"Saving results to: {str(clip_folder)}\")\n",
    "\n",
    "save_clip(image_name='Stolbische-1_N-39-015-(008-j)_COFP.tif')"
   ],
   "metadata": {
    "collapsed": false,
    "pycharm": {
     "name": "#%%\n"
    }
   }
  },
  {
   "cell_type": "code",
   "execution_count": 6,
   "outputs": [],
   "source": [
    "leave_image_name ='0.tif'"
   ],
   "metadata": {
    "collapsed": false,
    "pycharm": {
     "name": "#%%\n"
    }
   }
  },
  {
   "cell_type": "code",
   "execution_count": 7,
   "outputs": [
    {
     "name": "stdout",
     "output_type": "stream",
     "text": [
      "exclude_images: ('0.tif',)\n"
     ]
    }
   ],
   "source": [
    "def clean_dataset_folder(exclude_im_names: list[str]):\n",
    "    \"\"\"\n",
    "    Remove not needed annotations / images\n",
    "    \"\"\"\n",
    "    exclude_annotations = tuple(map(lambda x: x.split('.')[0] + \"_\", exclude_im_names))\n",
    "    exclude_images = tuple(exclude_im_names)\n",
    "    print(f\"exclude_images: {exclude_images}\")\n",
    "    for path in annotations_dir.rglob(\"**/*\"):\n",
    "        if path.is_file():\n",
    "            name = path.name\n",
    "            if not name.startswith(exclude_annotations):\n",
    "                path.unlink()\n",
    "\n",
    "    for path in image_dir.rglob(\"**/*\"):\n",
    "        if path.is_file():\n",
    "            name = path.name\n",
    "            if not name.startswith(exclude_images):\n",
    "                path.unlink()\n",
    "\n",
    "clean_dataset_folder(exclude_im_names=[leave_image_name])"
   ],
   "metadata": {
    "collapsed": false,
    "pycharm": {
     "name": "#%%\n"
    }
   }
  },
  {
   "cell_type": "code",
   "execution_count": 8,
   "outputs": [
    {
     "ename": "FileNotFoundError",
     "evalue": "[Errno 2] No such file or directory: '/home/shamil/AILab/tmp_images/clip4096/uchastok_2021/0.tif'",
     "output_type": "error",
     "traceback": [
      "\u001B[0;31m---------------------------------------------------------------------------\u001B[0m",
      "\u001B[0;31mFileNotFoundError\u001B[0m                         Traceback (most recent call last)",
      "\u001B[0;32m/tmp/ipykernel_28175/753425405.py\u001B[0m in \u001B[0;36m<module>\u001B[0;34m\u001B[0m\n\u001B[1;32m     45\u001B[0m         \u001B[0mfile\u001B[0m\u001B[0;34m.\u001B[0m\u001B[0mwrite\u001B[0m\u001B[0;34m(\u001B[0m\u001B[0mjson\u001B[0m\u001B[0;34m.\u001B[0m\u001B[0mdumps\u001B[0m\u001B[0;34m(\u001B[0m\u001B[0mcoco_output\u001B[0m\u001B[0;34m)\u001B[0m\u001B[0;34m)\u001B[0m\u001B[0;34m\u001B[0m\u001B[0;34m\u001B[0m\u001B[0m\n\u001B[1;32m     46\u001B[0m \u001B[0;34m\u001B[0m\u001B[0m\n\u001B[0;32m---> 47\u001B[0;31m \u001B[0mgenerate_json\u001B[0m\u001B[0;34m(\u001B[0m\u001B[0;34m)\u001B[0m\u001B[0;34m\u001B[0m\u001B[0;34m\u001B[0m\u001B[0m\n\u001B[0m\u001B[1;32m     48\u001B[0m \u001B[0;34m\u001B[0m\u001B[0m\n\u001B[1;32m     49\u001B[0m \u001B[0;34m\u001B[0m\u001B[0m\n",
      "\u001B[0;32m/tmp/ipykernel_28175/753425405.py\u001B[0m in \u001B[0;36mgenerate_json\u001B[0;34m()\u001B[0m\n\u001B[1;32m     16\u001B[0m     \u001B[0;31m# filter for jpeg images\u001B[0m\u001B[0;34m\u001B[0m\u001B[0;34m\u001B[0m\u001B[0;34m\u001B[0m\u001B[0m\n\u001B[1;32m     17\u001B[0m     \u001B[0mimage_path\u001B[0m \u001B[0;34m=\u001B[0m \u001B[0mclip_folder\u001B[0m \u001B[0;34m/\u001B[0m \u001B[0;34m'uchastok_2021'\u001B[0m \u001B[0;34m/\u001B[0m \u001B[0mleave_image_name\u001B[0m\u001B[0;34m\u001B[0m\u001B[0;34m\u001B[0m\u001B[0m\n\u001B[0;32m---> 18\u001B[0;31m     \u001B[0mimage\u001B[0m \u001B[0;34m=\u001B[0m \u001B[0mImage\u001B[0m\u001B[0;34m.\u001B[0m\u001B[0mopen\u001B[0m\u001B[0;34m(\u001B[0m\u001B[0mimage_path\u001B[0m\u001B[0;34m)\u001B[0m\u001B[0;34m\u001B[0m\u001B[0;34m\u001B[0m\u001B[0m\n\u001B[0m\u001B[1;32m     19\u001B[0m     image_info = pycococreatortools.create_image_info(\n\u001B[1;32m     20\u001B[0m             image_id, os.path.basename(image_path.name), image.size)\n",
      "\u001B[0;32m/usr/lib/python3.9/site-packages/PIL/Image.py\u001B[0m in \u001B[0;36mopen\u001B[0;34m(fp, mode, formats)\u001B[0m\n\u001B[1;32m   2966\u001B[0m \u001B[0;34m\u001B[0m\u001B[0m\n\u001B[1;32m   2967\u001B[0m     \u001B[0;32mif\u001B[0m \u001B[0mfilename\u001B[0m\u001B[0;34m:\u001B[0m\u001B[0;34m\u001B[0m\u001B[0;34m\u001B[0m\u001B[0m\n\u001B[0;32m-> 2968\u001B[0;31m         \u001B[0mfp\u001B[0m \u001B[0;34m=\u001B[0m \u001B[0mbuiltins\u001B[0m\u001B[0;34m.\u001B[0m\u001B[0mopen\u001B[0m\u001B[0;34m(\u001B[0m\u001B[0mfilename\u001B[0m\u001B[0;34m,\u001B[0m \u001B[0;34m\"rb\"\u001B[0m\u001B[0;34m)\u001B[0m\u001B[0;34m\u001B[0m\u001B[0;34m\u001B[0m\u001B[0m\n\u001B[0m\u001B[1;32m   2969\u001B[0m         \u001B[0mexclusive_fp\u001B[0m \u001B[0;34m=\u001B[0m \u001B[0;32mTrue\u001B[0m\u001B[0;34m\u001B[0m\u001B[0;34m\u001B[0m\u001B[0m\n\u001B[1;32m   2970\u001B[0m \u001B[0;34m\u001B[0m\u001B[0m\n",
      "\u001B[0;31mFileNotFoundError\u001B[0m: [Errno 2] No such file or directory: '/home/shamil/AILab/tmp_images/clip4096/uchastok_2021/0.tif'"
     ]
    }
   ],
   "source": [
    "# Generating json with annotations\n",
    "\n",
    "\n",
    "def generate_json():\n",
    "    coco_output = {\n",
    "        \"info\": INFO,\n",
    "        \"licenses\": LICENSES,\n",
    "        \"categories\": CATEGORIES,\n",
    "        \"images\": [],\n",
    "        \"annotations\": []\n",
    "    }\n",
    "\n",
    "    image_id = 1\n",
    "    segmentation_id = 1\n",
    "\n",
    "    # filter for jpeg images\n",
    "    image_path = clip_folder / 'uchastok_2021' / leave_image_name\n",
    "    image = Image.open(image_path)\n",
    "    image_info = pycococreatortools.create_image_info(\n",
    "            image_id, os.path.basename(image_path.name), image.size)\n",
    "\n",
    "    coco_output[\"images\"].append(image_info)\n",
    "\n",
    "    for annotation_path in annotations_dir.rglob(\"**/*\"):\n",
    "        if annotation_path.is_file():\n",
    "            print(str(annotation_path))\n",
    "            annotation_filename, image_filename = str(annotation_path), str(image_path)\n",
    "\n",
    "            class_id = [x['id'] for x in CATEGORIES if x['name'] in annotation_filename][0]\n",
    "\n",
    "            category_info = {'id': class_id, 'is_crowd': 'crowd' in image_filename}\n",
    "            binary_mask = np.asarray(Image.open(annotation_filename)\n",
    "                                     .convert('1')).astype(np.uint8)\n",
    "\n",
    "            annotation_info = pycococreatortools.create_annotation_info(\n",
    "                segmentation_id, image_id, category_info, binary_mask,\n",
    "                image.size, tolerance=2)\n",
    "\n",
    "            if annotation_info is not None:\n",
    "                coco_output[\"annotations\"].append(annotation_info)\n",
    "\n",
    "            segmentation_id = segmentation_id + 1\n",
    "\n",
    "    with open(ground_truth / \"annotations.json\", 'w') as file:\n",
    "        file.write(json.dumps(coco_output))\n",
    "\n",
    "generate_json()\n"
   ],
   "metadata": {
    "collapsed": false,
    "pycharm": {
     "name": "#%%\n"
    }
   }
  },
  {
   "cell_type": "code",
   "execution_count": null,
   "outputs": [],
   "source": [
    "# Slicing image to 3 channels\n",
    "\n",
    "split_channels(\n",
    "    _image_path=image_dir / leave_image_name,\n",
    "    _dst=bands\n",
    ")\n",
    "\n",
    "\n",
    "\n",
    "\n",
    "\n"
   ],
   "metadata": {
    "collapsed": false,
    "pycharm": {
     "name": "#%%\n"
    }
   }
  }
 ],
 "metadata": {
  "kernelspec": {
   "display_name": "Python 3",
   "language": "python",
   "name": "python3"
  },
  "language_info": {
   "codemirror_mode": {
    "name": "ipython",
    "version": 2
   },
   "file_extension": ".py",
   "mimetype": "text/x-python",
   "name": "python",
   "nbconvert_exporter": "python",
   "pygments_lexer": "ipython2",
   "version": "2.7.6"
  }
 },
 "nbformat": 4,
 "nbformat_minor": 0
}