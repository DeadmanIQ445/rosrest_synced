{
 "cells": [
  {
   "cell_type": "code",
   "execution_count": 5,
   "metadata": {
    "collapsed": true
   },
   "outputs": [],
   "source": [
    "\n",
    "from pathlib import Path\n",
    "import rasterio\n",
    "import random\n",
    "from rasterio.windows import Window"
   ]
  },
  {
   "cell_type": "code",
   "execution_count": 6,
   "outputs": [],
   "source": [
    "# Path to tiff to crop\n",
    "path_tif = Path(\"/home/shamil/AILab/inference_data/Айдарово_ЦОФП.tif\")\n",
    "assert path_tif.is_file()\n",
    "\n",
    "# Saving crop path\n",
    "dst_tif = Path(\"/home/shamil/AILab/artificial_cartographer/tests/data/pieceofland/quality/aerial/summer/crop_large/crop.tif\")\n",
    "dst_tif.unlink(missing_ok=True)\n",
    "\n",
    "# Crop size\n",
    "crop_size = 9000"
   ],
   "metadata": {
    "collapsed": false,
    "pycharm": {
     "name": "#%%\n"
    }
   }
  },
  {
   "cell_type": "code",
   "execution_count": 7,
   "outputs": [],
   "source": [
    "with rasterio.open(path_tif) as src:\n",
    "\n",
    "    # The size in pixels of your desired window\n",
    "    xsize, ysize = crop_size, crop_size\n",
    "\n",
    "    # Generate a random window location that doesn't go outside the image\n",
    "    xmin, xmax = 0, src.width - xsize\n",
    "    ymin, ymax = 0, src.height - ysize\n",
    "    xoff, yoff = random.randint(xmin, xmax), random.randint(ymin, ymax)\n",
    "\n",
    "    # Create a Window and calculate the transform from the source dataset\n",
    "    window = Window(xoff, yoff, xsize, ysize)\n",
    "    transform = src.window_transform(window)\n",
    "\n",
    "    # Create a new cropped raster to write to\n",
    "    profile = src.profile\n",
    "    profile.update({\n",
    "        'height': xsize,\n",
    "        'width': ysize,\n",
    "        'transform': transform})\n",
    "\n",
    "    with rasterio.open(dst_tif, 'w', **profile) as dst:\n",
    "        # Read the data from the window and write it to the output raster\n",
    "        dst.write(src.read(window=window))"
   ],
   "metadata": {
    "collapsed": false,
    "pycharm": {
     "name": "#%%\n"
    }
   }
  }
 ],
 "metadata": {
  "kernelspec": {
   "display_name": "Python 3",
   "language": "python",
   "name": "python3"
  },
  "language_info": {
   "codemirror_mode": {
    "name": "ipython",
    "version": 2
   },
   "file_extension": ".py",
   "mimetype": "text/x-python",
   "name": "python",
   "nbconvert_exporter": "python",
   "pygments_lexer": "ipython2",
   "version": "2.7.6"
  }
 },
 "nbformat": 4,
 "nbformat_minor": 0
}