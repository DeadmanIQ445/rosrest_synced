{
 "cells": [
  {
   "cell_type": "code",
   "execution_count": 11,
   "metadata": {},
   "outputs": [],
   "source": [
    "import os\n",
    "import gdal\n",
    "import glob\n",
    "\n",
    "import rasterio\n",
    "from rasterio.plot import reshape_as_image\n",
    "import rasterio.mask\n",
    "from rasterio.features import rasterize\n",
    "\n",
    "import pandas as pd\n",
    "import geopandas as gpd\n",
    "from shapely.geometry import mapping, Point, Polygon\n",
    "from shapely.ops import cascaded_union\n",
    "\n",
    "import numpy as np\n",
    "import cv2\n",
    "import matplotlib.pyplot as plt\n",
    "from tqdm import tqdm"
   ]
  },
  {
   "cell_type": "code",
   "execution_count": 12,
   "metadata": {},
   "outputs": [],
   "source": [
    "def rec_find(path, all_f):\n",
    "    global count\n",
    "    list1 = os.listdir(path)\n",
    "    for l in list1:\n",
    "        if os.path.isdir(path + l + \"/\"):\n",
    "            all_f = rec_find(path + l + \"/\", all_f)\n",
    "        else:\n",
    "            if l.split(\".\")[-1] == 'shp':\n",
    "                count += 1\n",
    "                print(\"Found {}\".format(count) + \" paths\")\n",
    "                all_f.append(path + l)\n",
    "\n",
    "    return all_f"
   ]
  },
  {
   "cell_type": "code",
   "execution_count": 13,
   "metadata": {},
   "outputs": [],
   "source": [
    "def poly_from_utm(polygon, transform):\n",
    "    poly_pts = []\n",
    "\n",
    "    # make a polygon from multipolygon\n",
    "    poly = cascaded_union(polygon)\n",
    "    for i in np.array(poly.exterior.coords):\n",
    "\n",
    "        # transfrom polygon to image crs, using raster meta\n",
    "        poly_pts.append(~transform * tuple(i))\n",
    "\n",
    "    # make a shapely Polygon object\n",
    "    new_poly = Polygon(poly_pts)\n",
    "    return new_poly"
   ]
  },
  {
   "cell_type": "code",
   "execution_count": 14,
   "metadata": {},
   "outputs": [],
   "source": [
    "classes = [\"Многоквартирное жилое здание\",\n",
    "           \"Частный дом\",\n",
    "           \"Промышленные зоны\",\n",
    "           \"Прочие нежилые здания\"]\n",
    "\n",
    "dict_names = {\"Многоквартирное жилое здание\": 1,\n",
    "              \"Частный дом\": 2,\n",
    "              \"Промышленные зоны\": 3,\n",
    "              \"Прочие нежилые здания\": 4}\n",
    "\n",
    "dict_shape = {key: [] for key in classes}"
   ]
  },
  {
   "cell_type": "code",
   "execution_count": 15,
   "metadata": {},
   "outputs": [],
   "source": [
    "# path = \"/mnt/datastore/GIS/ROKS/ZU/ann_OKS/\"\n",
    "# raster_path_data = \"/mnt/datastore/GIS/ROKS/ZU/raster/\"\n",
    "\n",
    "path = \"/mnt/datastore/GIS/ROKS/Rosreestr-Satelite/Razmetka\"\n",
    "raster_path_data = \"/mnt/datastore/GIS/ROKS/Rosreestr-Satelite\"\n",
    "\n",
    "count = 0\n",
    "shp_paths = []\n",
    "shp_paths = rec_find(path, shp_paths)\n",
    "# shp_paths = [\"/mnt/datastore/GIS/ROKS/trainGSK60/ann/GSKN-39-3-113-d/\"]"
   ]
  },
  {
   "cell_type": "code",
   "execution_count": 10,
   "metadata": {},
   "outputs": [
    {
     "name": "stdout",
     "output_type": "stream",
     "text": [
      "\u001b[0m\u001b[01;32mRP1_2017-05-03_Krasnodar_1.cpg\u001b[0m*  \u001b[01;32mRP1_2017-05-03_Krasnodar_1.qpj\u001b[0m*\n",
      "\u001b[01;32mRP1_2017-05-03_Krasnodar_1.dbf\u001b[0m*  \u001b[01;32mRP1_2017-05-03_Krasnodar_1.shp\u001b[0m*\n",
      "\u001b[01;32mRP1_2017-05-03_Krasnodar_1.prj\u001b[0m*  \u001b[01;32mRP1_2017-05-03_Krasnodar_1.shx\u001b[0m*\n"
     ]
    }
   ],
   "source": [
    "ls '/mnt/datastore/GIS/ROKS/Rosreestr-Satelite/Razmetka/RP1_2017-05-03_Krasnodar_1/'"
   ]
  },
  {
   "cell_type": "code",
   "execution_count": 16,
   "metadata": {},
   "outputs": [
    {
     "data": {
      "text/plain": [
       "[]"
      ]
     },
     "execution_count": 16,
     "metadata": {},
     "output_type": "execute_result"
    }
   ],
   "source": [
    "shp_paths"
   ]
  },
  {
   "cell_type": "code",
   "execution_count": 27,
   "metadata": {
    "scrolled": true
   },
   "outputs": [
    {
     "name": "stderr",
     "output_type": "stream",
     "text": [
      "  0%|                                                                                                            | 0/6 [00:00<?, ?it/s]"
     ]
    },
    {
     "name": "stdout",
     "output_type": "stream",
     "text": [
      "/mnt/datastore/GIS/ROKS/ZU/raster/ZU_Kungur_1-0-0/BLU.tif\n"
     ]
    },
    {
     "name": "stderr",
     "output_type": "stream",
     "text": [
      " 17%|████████████████▋                                                                                   | 1/6 [00:32<02:41, 32.36s/it]"
     ]
    },
    {
     "name": "stdout",
     "output_type": "stream",
     "text": [
      "/mnt/datastore/GIS/ROKS/ZU/raster/ZU_Kungur_1-0-1/BLU.tif\n"
     ]
    },
    {
     "name": "stderr",
     "output_type": "stream",
     "text": [
      " 33%|█████████████████████████████████▎                                                                  | 2/6 [01:06<02:13, 33.27s/it]"
     ]
    },
    {
     "name": "stdout",
     "output_type": "stream",
     "text": [
      "/mnt/datastore/GIS/ROKS/ZU/raster/ZU_Kungur_1-0-2/BLU.tif\n"
     ]
    },
    {
     "name": "stderr",
     "output_type": "stream",
     "text": [
      " 50%|██████████████████████████████████████████████████                                                  | 3/6 [01:25<01:21, 27.05s/it]"
     ]
    },
    {
     "name": "stdout",
     "output_type": "stream",
     "text": [
      "/mnt/datastore/GIS/ROKS/ZU/raster/ZU_Kungur_1-1-0/BLU.tif\n"
     ]
    },
    {
     "name": "stderr",
     "output_type": "stream",
     "text": [
      " 67%|██████████████████████████████████████████████████████████████████▋                                 | 4/6 [02:11<01:08, 34.36s/it]"
     ]
    },
    {
     "name": "stdout",
     "output_type": "stream",
     "text": [
      "/mnt/datastore/GIS/ROKS/ZU/raster/ZU_Kungur_1-1-1/BLU.tif\n"
     ]
    },
    {
     "name": "stderr",
     "output_type": "stream",
     "text": [
      " 83%|███████████████████████████████████████████████████████████████████████████████████▎                | 5/6 [02:22<00:25, 25.99s/it]"
     ]
    },
    {
     "name": "stdout",
     "output_type": "stream",
     "text": [
      "/mnt/datastore/GIS/ROKS/ZU/raster/ZU_Kungur_1-1-2/BLU.tif\n"
     ]
    },
    {
     "name": "stderr",
     "output_type": "stream",
     "text": [
      "100%|████████████████████████████████████████████████████████████████████████████████████████████████████| 6/6 [02:49<00:00, 28.17s/it]\n"
     ]
    }
   ],
   "source": [
    "for shp in tqdm(shp_paths[7:]):\n",
    "    dict_shape = {key: [] for key in classes}\n",
    "    if shp.split(\"/\")[-2].split(\"_\")[-2] == \"Kungur\":\n",
    "        base_shp = \"ZU_\" + \\\n",
    "            shp.split(\"/\")[-2].split(\"_\")[-2] + \"_\" + \\\n",
    "            shp.split(\"/\")[-2].split(\"_\")[-1]\n",
    "    else:\n",
    "        base_shp = \"ZU_\" + shp.split(\"/\")[-2].split(\"_\")[-1]\n",
    "#     if base_shp == \"O-40-065-(232-д)_ЦОФП\":\n",
    "#         base_shp = base_shp\n",
    "#     elif base_shp == \"O-40-077-(009-г)_ЦОФП_2017_ГСК2011\":\n",
    "#         base_shp = base_shp[:-18]\n",
    "#     else:\n",
    "#         base_shp = base_shp[:-13]\n",
    "    raster_path = raster_path_data + base_shp + \"/BLU.tif\"\n",
    "    print(raster_path)\n",
    "    out_path = raster_path_data + base_shp + \"/\"\n",
    "    with rasterio.open(raster_path, \"r\") as src:\n",
    "        raster_img = src.read()\n",
    "        raster_meta = src.meta\n",
    "    raster_img = reshape_as_image(raster_img)\n",
    "    try:\n",
    "        train_df = gpd.read_file(shp)\n",
    "        im_size = (raster_meta['height'], raster_meta['width'])\n",
    "        for num, row in train_df.iterrows():\n",
    "            try:\n",
    "                column = row[\"Type\"]\n",
    "            except:\n",
    "                column = row[\"type\"]\n",
    "            if column == \"Прочие нежелые здания\":\n",
    "                column = \"Прочие нежилые здания\"\n",
    "            try:\n",
    "                if row['geometry'].geom_type == 'Polygon':\n",
    "                    poly = poly_from_utm(\n",
    "                        row['geometry'], raster_meta['transform'])\n",
    "                else:\n",
    "                    for p in row['geometry']:\n",
    "                        poly = poly_from_utm(p, raster_meta['transform'])\n",
    "            except Exception as e:\n",
    "                print(e)\n",
    "                continue\n",
    "\n",
    "            dict_shape[column].append(poly)\n",
    "    except:\n",
    "        print(base_shp)\n",
    "        train_df = gpd.read_file(shp, encoding=\"Windows-1251\")\n",
    "        im_size = (raster_meta['height'], raster_meta['width'])\n",
    "        for num, row in train_df.iterrows():\n",
    "            try:\n",
    "                column = row[\"Type\"]\n",
    "            except:\n",
    "                column = row[\"type\"]\n",
    "            if column == \"Прочие нежелые здания\":\n",
    "                column = \"Прочие нежилые здания\"\n",
    "            try:\n",
    "                if row['geometry'].geom_type == 'Polygon':\n",
    "                    poly = poly_from_utm(\n",
    "                        row['geometry'], raster_meta['transform'])\n",
    "                else:\n",
    "                    for p in row['geometry']:\n",
    "                        poly = poly_from_utm(p, raster_meta['transform'])\n",
    "            except Exception as e:\n",
    "                print(e)\n",
    "                continue\n",
    "\n",
    "            dict_shape[column].append(poly)\n",
    "\n",
    "    for k, v in dict_shape.items():\n",
    "        if len(v) > 0:\n",
    "            mask = rasterize(shapes=v, out_shape=im_size)\n",
    "#             plt.imshow(mask)\n",
    "#             plt.show()\n",
    "        else:\n",
    "            mask = np.zeros(\n",
    "                (raster_img.shape[1], raster_img.shape[2]), dtype=np.uint8)\n",
    "\n",
    "        bin_mask_meta = raster_meta.copy()\n",
    "        bin_mask_meta.update({'count': 1})\n",
    "        with rasterio.open(out_path + \"10\" + str(dict_names[k]) + \".tif\", 'w', **bin_mask_meta) as dst:\n",
    "            dst.write(mask * 255, 1)"
   ]
  },
  {
   "cell_type": "code",
   "execution_count": 28,
   "metadata": {},
   "outputs": [
    {
     "name": "stderr",
     "output_type": "stream",
     "text": [
      "  0%|                                                                                                           | 0/13 [00:00<?, ?it/s]"
     ]
    },
    {
     "name": "stdout",
     "output_type": "stream",
     "text": [
      "/mnt/datastore/GIS/ROKS/ZU/raster/ZU_Glyadenovo-0-0/BLU.tif\n"
     ]
    },
    {
     "name": "stderr",
     "output_type": "stream",
     "text": [
      "  8%|███████▌                                                                                           | 1/13 [00:11<02:23, 11.95s/it]"
     ]
    },
    {
     "name": "stdout",
     "output_type": "stream",
     "text": [
      "/mnt/datastore/GIS/ROKS/ZU/raster/ZU_Glyadenovo-0-1/BLU.tif\n"
     ]
    },
    {
     "name": "stderr",
     "output_type": "stream",
     "text": [
      " 15%|███████████████▏                                                                                   | 2/13 [00:15<01:19,  7.19s/it]"
     ]
    },
    {
     "name": "stdout",
     "output_type": "stream",
     "text": [
      "/mnt/datastore/GIS/ROKS/ZU/raster/ZU_Glyadenovo-1-0/BLU.tif\n"
     ]
    },
    {
     "name": "stderr",
     "output_type": "stream",
     "text": [
      " 23%|██████████████████████▊                                                                            | 3/13 [00:23<01:14,  7.43s/it]"
     ]
    },
    {
     "name": "stdout",
     "output_type": "stream",
     "text": [
      "/mnt/datastore/GIS/ROKS/ZU/raster/ZU_Glyadenovo-1-1/BLU.tif\n"
     ]
    },
    {
     "name": "stderr",
     "output_type": "stream",
     "text": [
      " 31%|██████████████████████████████▍                                                                    | 4/13 [00:30<01:03,  7.08s/it]"
     ]
    },
    {
     "name": "stdout",
     "output_type": "stream",
     "text": [
      "/mnt/datastore/GIS/ROKS/ZU/raster/ZU_Glyadenovo-2-0/BLU.tif\n"
     ]
    },
    {
     "name": "stderr",
     "output_type": "stream",
     "text": [
      " 38%|██████████████████████████████████████                                                             | 5/13 [00:44<01:16,  9.60s/it]"
     ]
    },
    {
     "name": "stdout",
     "output_type": "stream",
     "text": [
      "/mnt/datastore/GIS/ROKS/ZU/raster/ZU_Glyadenovo-2-1/BLU.tif\n"
     ]
    },
    {
     "name": "stderr",
     "output_type": "stream",
     "text": [
      " 46%|█████████████████████████████████████████████▋                                                     | 6/13 [00:50<00:59,  8.52s/it]"
     ]
    },
    {
     "name": "stdout",
     "output_type": "stream",
     "text": [
      "/mnt/datastore/GIS/ROKS/ZU/raster/ZU_Gorny/BLU.tif\n"
     ]
    },
    {
     "name": "stderr",
     "output_type": "stream",
     "text": [
      " 54%|█████████████████████████████████████████████████████▎                                             | 7/13 [01:11<01:15, 12.53s/it]"
     ]
    },
    {
     "name": "stdout",
     "output_type": "stream",
     "text": [
      "/mnt/datastore/GIS/ROKS/ZU/raster/ZU_Kungur_1-0-0/BLU.tif\n"
     ]
    },
    {
     "name": "stderr",
     "output_type": "stream",
     "text": [
      " 62%|████████████████████████████████████████████████████████████▉                                      | 8/13 [01:19<00:55, 11.09s/it]"
     ]
    },
    {
     "name": "stdout",
     "output_type": "stream",
     "text": [
      "/mnt/datastore/GIS/ROKS/ZU/raster/ZU_Kungur_1-0-1/BLU.tif\n"
     ]
    },
    {
     "name": "stderr",
     "output_type": "stream",
     "text": [
      " 69%|████████████████████████████████████████████████████████████████████▌                              | 9/13 [01:21<00:33,  8.37s/it]"
     ]
    },
    {
     "name": "stdout",
     "output_type": "stream",
     "text": [
      "/mnt/datastore/GIS/ROKS/ZU/raster/ZU_Kungur_1-0-2/BLU.tif\n"
     ]
    },
    {
     "name": "stderr",
     "output_type": "stream",
     "text": [
      " 77%|███████████████████████████████████████████████████████████████████████████▍                      | 10/13 [01:23<00:18,  6.32s/it]"
     ]
    },
    {
     "name": "stdout",
     "output_type": "stream",
     "text": [
      "/mnt/datastore/GIS/ROKS/ZU/raster/ZU_Kungur_1-1-0/BLU.tif\n"
     ]
    },
    {
     "name": "stderr",
     "output_type": "stream",
     "text": [
      " 85%|██████████████████████████████████████████████████████████████████████████████████▉               | 11/13 [01:25<00:09,  4.86s/it]"
     ]
    },
    {
     "name": "stdout",
     "output_type": "stream",
     "text": [
      "/mnt/datastore/GIS/ROKS/ZU/raster/ZU_Kungur_1-1-1/BLU.tif\n"
     ]
    },
    {
     "name": "stderr",
     "output_type": "stream",
     "text": [
      " 92%|██████████████████████████████████████████████████████████████████████████████████████████▍       | 12/13 [01:26<00:03,  3.87s/it]"
     ]
    },
    {
     "name": "stdout",
     "output_type": "stream",
     "text": [
      "/mnt/datastore/GIS/ROKS/ZU/raster/ZU_Kungur_1-1-2/BLU.tif\n"
     ]
    },
    {
     "name": "stderr",
     "output_type": "stream",
     "text": [
      "100%|██████████████████████████████████████████████████████████████████████████████████████████████████| 13/13 [01:28<00:00,  6.77s/it]\n"
     ]
    }
   ],
   "source": [
    "list_shape = []\n",
    "for shp in tqdm(shp_paths):\n",
    "    base_shp = shp.split(\"/\")[-2][3:]\n",
    "#     if base_shp == \"O-40-065-(232-д)_ЦОФП\":\n",
    "#         base_shp = base_shp\n",
    "#     elif base_shp == \"O-40-077-(009-г)_ЦОФП_2017_ГСК2011\":\n",
    "#         base_shp = base_shp[:-18]\n",
    "#     else:\n",
    "#         base_shp = base_shp[:-13]\n",
    "    raster_path = raster_path_data + \"ZU\" + base_shp + \"/BLU.tif\"\n",
    "    print(raster_path)\n",
    "    out_path = raster_path_data + \"ZU\" + base_shp + \"/\"\n",
    "    with rasterio.open(raster_path, \"r\") as src:\n",
    "        raster_img = src.read()\n",
    "        raster_meta = src.meta\n",
    "    raster_img = reshape_as_image(raster_img)\n",
    "    try:\n",
    "        train_df = gpd.read_file(shp)\n",
    "        im_size = (raster_meta['height'], raster_meta['width'])\n",
    "        for num, row in train_df.iterrows():\n",
    "            try:\n",
    "                if row['geometry'].geom_type == 'Polygon':\n",
    "                    poly = poly_from_utm(\n",
    "                        row['geometry'], raster_meta['transform'])\n",
    "                else:\n",
    "                    for p in row['geometry']:\n",
    "                        poly = poly_from_utm(p, raster_meta['transform'])\n",
    "            except Exception as e:\n",
    "                print(e)\n",
    "                continue\n",
    "\n",
    "            list_shape.append(poly)\n",
    "    except:\n",
    "        print(base_shp)\n",
    "        train_df = gpd.read_file(shp, encoding=\"Windows-1251\")\n",
    "        im_size = (raster_meta['height'], raster_meta['width'])\n",
    "        for num, row in train_df.iterrows():\n",
    "            try:\n",
    "                if row['geometry'].geom_type == 'Polygon':\n",
    "                    poly = poly_from_utm(\n",
    "                        row['geometry'], raster_meta['transform'])\n",
    "                else:\n",
    "                    for p in row['geometry']:\n",
    "                        poly = poly_from_utm(p, raster_meta['transform'])\n",
    "            except Exception as e:\n",
    "                print(e)\n",
    "                continue\n",
    "\n",
    "            list_shape.append(poly)\n",
    "\n",
    "    mask = rasterize(shapes=list_shape, out_shape=im_size)\n",
    "\n",
    "    bin_mask_meta = raster_meta.copy()\n",
    "    bin_mask_meta.update({'count': 1})\n",
    "    with rasterio.open(out_path + \"100\" + \".tif\", 'w', **bin_mask_meta) as dst:\n",
    "        dst.write(mask * 255, 1)"
   ]
  },
  {
   "cell_type": "code",
   "execution_count": 35,
   "metadata": {},
   "outputs": [
    {
     "data": {
      "text/plain": [
       "'utf-8'"
      ]
     },
     "execution_count": 35,
     "metadata": {},
     "output_type": "execute_result"
    }
   ],
   "source": [
    "from sys import getdefaultencoding\n",
    "getdefaultencoding()"
   ]
  },
  {
   "cell_type": "code",
   "execution_count": 36,
   "metadata": {},
   "outputs": [
    {
     "data": {
      "text/plain": [
       "b'&#1055;&#1088;&#1086;&#1095;&#1080;&#1077; &#1085;&#1077;&#1078;&#1080;&#1083;&#1099;&#1077; &#1079;&#1076;&#1072;&#1085;&#1080;&#1103;'"
      ]
     },
     "execution_count": 36,
     "metadata": {},
     "output_type": "execute_result"
    }
   ],
   "source": [
    "column.encode(\"'ascii'\", errors='xmlcharrefreplace')"
   ]
  }
 ],
 "metadata": {
  "kernelspec": {
   "display_name": "gis",
   "language": "python",
   "name": "gis"
  },
  "language_info": {
   "codemirror_mode": {
    "name": "ipython",
    "version": 3
   },
   "file_extension": ".py",
   "mimetype": "text/x-python",
   "name": "python",
   "nbconvert_exporter": "python",
   "pygments_lexer": "ipython3",
   "version": "3.9.6"
  }
 },
 "nbformat": 4,
 "nbformat_minor": 4
}
