{
 "cells": [
  {
   "cell_type": "markdown",
   "source": [
    "\n",
    "# Not ready, should be tested!"
   ],
   "metadata": {
    "collapsed": false,
    "pycharm": {
     "name": "#%% md\n"
    }
   }
  },
  {
   "cell_type": "code",
   "execution_count": null,
   "outputs": [],
   "source": [
    "\n",
    "from pathlib import Path\n",
    "import json\n",
    "import shutil\n",
    "import rasterio.shutil\n",
    "from utils.preprocess.split_channels import split_channels\n",
    "\n",
    "import sys\n",
    "sys.path.append(\"/home/shamil/AILab/Rosreest\")\n",
    "sys.path.append(\"/home/shamil/AILab/artificial_cartographer\")"
   ],
   "metadata": {
    "collapsed": false,
    "pycharm": {
     "name": "#%%\n"
    }
   }
  },
  {
   "cell_type": "code",
   "execution_count": null,
   "outputs": [],
   "source": [
    "def clean_folder_content(folder: Path):\n",
    "\t\"\"\"Remove content of folder \"\"\"\n",
    "\tif folder.is_dir():\n",
    "\t\tshutil.rmtree(folder)\n",
    "\n",
    "\tfolder.mkdir()\n",
    "\n",
    "\n",
    "f_threshold = {'f_score': 0.6}"
   ],
   "metadata": {
    "collapsed": false,
    "pycharm": {
     "name": "#%%\n"
    }
   }
  },
  {
   "cell_type": "code",
   "execution_count": null,
   "outputs": [],
   "source": [
    "# Path to folder with inference images\n",
    "inference_input_folder = Path('/home/shamil/pokaz_inference/для показа_13.08')\n",
    "assert inference_input_folder.is_dir()\n",
    "\n",
    "# Folder, where ot store tests\n",
    "tests_folder = Path('/home/shamil/inference_pokaz/tests/data/pieceofland/quality/aerial/summer')\n",
    "clean_folder_content(tests_folder)\n",
    "\n",
    "# Folder, where results of running tests are stored\n",
    "result_folder = Path('/home/shamil/inference_pokaz/tests/results/pieceofland/quality/aerial/summer')\n",
    "clean_folder_content(result_folder)\n",
    "\n",
    "# Folder for stashing results\n",
    "output_folder = Path('/home/shamil/inference_output')\n",
    "clean_folder_content(output_folder)"
   ],
   "metadata": {
    "collapsed": false,
    "pycharm": {
     "name": "#%%\n"
    }
   }
  },
  {
   "cell_type": "code",
   "execution_count": null,
   "outputs": [],
   "source": [
    "# Inference folder contains sub folders, creating them in inference_output\n",
    "folders = list(path.name for path in inference_input_folder.glob(\"**/*\") if path.is_dir())\n",
    "\n",
    "for name in folders:\n",
    "\tpath = output_folder / name\n",
    "\tpath.mkdir()\n"
   ],
   "metadata": {
    "collapsed": false,
    "pycharm": {
     "name": "#%%\n"
    }
   }
  },
  {
   "cell_type": "code",
   "execution_count": null,
   "outputs": [],
   "source": [
    "# Preparing data for inference\n",
    "for ii, path in enumerate(sorted(inference_input_folder.glob(\"**/*\"))):\n",
    "\tif path.is_file():\n",
    "\t\tprint(f\"Processing: {str(path)}...\")\n",
    "\n",
    "\t\ttest = tests_folder / str(ii)\n",
    "\t\ttest.mkdir()\n",
    "\n",
    "\t\tband = test / 'bands'\n",
    "\t\tband.mkdir()\n",
    "\n",
    "\t\tsplit_channels(_image_path=path, _dst=band)\n",
    "\t\trasterio.shutil.copy(src=path, dst=test / \"image.tif\")\n",
    "\n",
    "\t\tground_truth = test / 'ground_truth'\n",
    "\t\tground_truth.mkdir()\n",
    "\n",
    "\t\twith open(test / \"score_thresholds.json\", 'w') as file:\n",
    "\t\t\tfile.write(json.dumps(f_threshold))"
   ],
   "metadata": {
    "collapsed": false,
    "pycharm": {
     "name": "#%%\n"
    }
   }
  },
  {
   "cell_type": "code",
   "execution_count": 1,
   "outputs": [
    {
     "name": "stdout",
     "output_type": "stream",
     "text": [
      "1\r\n"
     ]
    }
   ],
   "source": [
    "# Running tests\n",
    "! python /home/shamil/AILab/artificial_cartographer/tests/piece_of_land_detection/test_aerial.py"
   ],
   "metadata": {
    "collapsed": false,
    "pycharm": {
     "name": "#%%\n"
    }
   }
  },
  {
   "cell_type": "code",
   "execution_count": null,
   "outputs": [],
   "source": [
    "# Renaming outputs\n",
    "for ii, path in enumerate(sorted(inference_input_folder.glob(\"**/*\"))):\n",
    "\tif path.is_file():\n",
    "\t\tshp_folder = tests_folder / str(ii) / \"polygons\"\n",
    "\t\tparent_name = path.parent.name\n",
    "\n",
    "\t\t# if file was included in folder -> write to there\n",
    "\t\tif parent_name in folders:\n",
    "\t\t\toutput_path = output_folder / parent_name / path.name\n",
    "\t\telse:\n",
    "\t\t\toutput_path = output_folder / path.name\n",
    "\n",
    "\t\trasterio.shutil.copy(src=shp_folder, dst=output_path)\n"
   ],
   "metadata": {
    "collapsed": false,
    "pycharm": {
     "name": "#%%\n"
    }
   }
  }
 ],
 "metadata": {
  "kernelspec": {
   "display_name": "Python 3",
   "language": "python",
   "name": "python3"
  },
  "language_info": {
   "codemirror_mode": {
    "name": "ipython",
    "version": 2
   },
   "file_extension": ".py",
   "mimetype": "text/x-python",
   "name": "python",
   "nbconvert_exporter": "python",
   "pygments_lexer": "ipython2",
   "version": "2.7.6"
  }
 },
 "nbformat": 4,
 "nbformat_minor": 0
}