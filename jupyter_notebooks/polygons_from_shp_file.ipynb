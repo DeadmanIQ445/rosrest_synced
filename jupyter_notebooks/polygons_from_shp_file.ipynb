{
 "cells": [
  {
   "cell_type": "code",
   "execution_count": 1,
   "metadata": {
    "collapsed": true
   },
   "outputs": [],
   "source": [
    "import fiona\n",
    "from pathlib import Path\n",
    "\n",
    "from shapely.geometry import shape\n",
    "from utils.polygons.io import read_geopolygons_from_file\n",
    "from utils.polygons.metrics import instance_f1_score"
   ]
  },
  {
   "cell_type": "code",
   "execution_count": 2,
   "outputs": [],
   "source": [
    "gt_shp_file = Path(\"/home/shamil/AILab/new_data/Razmetka/Stolbische-1_N-39-015-(007-e)_COFP/Stolbische-1_N-39-015-(007-e)_COFP.shp\")\n",
    "pred_shp_file = Path(\"/home/shamil/AILab/artificial_cartographer/tests/results/pieceofland/quality/aerial/summer/train_image/polygons\")\n",
    "\n",
    "\n",
    "assert gt_shp_file.is_file()"
   ],
   "metadata": {
    "collapsed": false,
    "pycharm": {
     "name": "#%%\n"
    }
   }
  },
  {
   "cell_type": "code",
   "execution_count": 3,
   "outputs": [
    {
     "name": "stdout",
     "output_type": "stream",
     "text": [
      "[<shapely.geometry.polygon.Polygon object at 0x7f86cfa0ec40>, <shapely.geometry.polygon.Polygon object at 0x7f86cfa0ebe0>, <shapely.geometry.polygon.Polygon object at 0x7f86cfa0eb50>, <shapely.geometry.polygon.Polygon object at 0x7f86cfa0eb20>, <shapely.geometry.polygon.Polygon object at 0x7f86cfa0ecd0>, <shapely.geometry.polygon.Polygon object at 0x7f86cfa0eca0>, <shapely.geometry.polygon.Polygon object at 0x7f86cfa0ee50>, <shapely.geometry.polygon.Polygon object at 0x7f86cfa0ee20>, <shapely.geometry.polygon.Polygon object at 0x7f86cfa0eee0>, <shapely.geometry.polygon.Polygon object at 0x7f86cfa0ef10>, <shapely.geometry.polygon.Polygon object at 0x7f86cfa0ef70>, <shapely.geometry.polygon.Polygon object at 0x7f86cfa0efd0>, <shapely.geometry.polygon.Polygon object at 0x7f86cf43f070>, <shapely.geometry.polygon.Polygon object at 0x7f86cf43f0d0>, <shapely.geometry.polygon.Polygon object at 0x7f86cf43f130>, <shapely.geometry.polygon.Polygon object at 0x7f86cf43f190>, <shapely.geometry.polygon.Polygon object at 0x7f86cf43f1f0>, <shapely.geometry.polygon.Polygon object at 0x7f86cf43f250>, <shapely.geometry.polygon.Polygon object at 0x7f86cf43f2b0>, <shapely.geometry.polygon.Polygon object at 0x7f86cf43f310>, <shapely.geometry.polygon.Polygon object at 0x7f86cf43f370>, <shapely.geometry.polygon.Polygon object at 0x7f86cf43f3d0>, <shapely.geometry.polygon.Polygon object at 0x7f86cf43f430>, <shapely.geometry.polygon.Polygon object at 0x7f86cf43f490>, <shapely.geometry.polygon.Polygon object at 0x7f86cf43f4f0>, <shapely.geometry.polygon.Polygon object at 0x7f86cf43f550>, <shapely.geometry.polygon.Polygon object at 0x7f86cf43f5b0>, <shapely.geometry.polygon.Polygon object at 0x7f86cf43f610>, <shapely.geometry.polygon.Polygon object at 0x7f86cf43f670>, <shapely.geometry.polygon.Polygon object at 0x7f86cf43f6d0>, <shapely.geometry.polygon.Polygon object at 0x7f86cf43f730>, <shapely.geometry.polygon.Polygon object at 0x7f86cf43f790>, <shapely.geometry.polygon.Polygon object at 0x7f86cf43f7f0>, <shapely.geometry.polygon.Polygon object at 0x7f86cf43f850>, <shapely.geometry.polygon.Polygon object at 0x7f86cf43f8b0>, <shapely.geometry.polygon.Polygon object at 0x7f86cf43f910>, <shapely.geometry.polygon.Polygon object at 0x7f86cf43f970>, <shapely.geometry.polygon.Polygon object at 0x7f86cf43f9d0>, <shapely.geometry.polygon.Polygon object at 0x7f86cf43fa30>, <shapely.geometry.polygon.Polygon object at 0x7f86cf43fa90>, <shapely.geometry.polygon.Polygon object at 0x7f86cf43faf0>, <shapely.geometry.polygon.Polygon object at 0x7f86cf43fb50>, <shapely.geometry.polygon.Polygon object at 0x7f86cf43fbb0>, <shapely.geometry.polygon.Polygon object at 0x7f86cf43fc10>, <shapely.geometry.polygon.Polygon object at 0x7f86cf43fc70>, <shapely.geometry.polygon.Polygon object at 0x7f86cf43fcd0>, <shapely.geometry.polygon.Polygon object at 0x7f86cf43fd30>, <shapely.geometry.polygon.Polygon object at 0x7f86cf43fd90>, <shapely.geometry.polygon.Polygon object at 0x7f86cf43fdf0>, <shapely.geometry.polygon.Polygon object at 0x7f86cf43fe50>, <shapely.geometry.polygon.Polygon object at 0x7f86cf43feb0>, <shapely.geometry.polygon.Polygon object at 0x7f86cf43ff10>, <shapely.geometry.polygon.Polygon object at 0x7f86cf43ff70>, <shapely.geometry.polygon.Polygon object at 0x7f86cf43ffd0>, <shapely.geometry.polygon.Polygon object at 0x7f86cf441070>, <shapely.geometry.polygon.Polygon object at 0x7f86cf4410d0>, <shapely.geometry.polygon.Polygon object at 0x7f86cf441130>, <shapely.geometry.polygon.Polygon object at 0x7f86cf441190>, <shapely.geometry.polygon.Polygon object at 0x7f86cf4411f0>, <shapely.geometry.polygon.Polygon object at 0x7f86cf441250>, <shapely.geometry.polygon.Polygon object at 0x7f86cf4412b0>, <shapely.geometry.polygon.Polygon object at 0x7f86cf441310>, <shapely.geometry.polygon.Polygon object at 0x7f86cf441370>, <shapely.geometry.polygon.Polygon object at 0x7f86cf4413d0>, <shapely.geometry.polygon.Polygon object at 0x7f86cf441430>, <shapely.geometry.polygon.Polygon object at 0x7f86cf441490>, <shapely.geometry.polygon.Polygon object at 0x7f86cf4414f0>, <shapely.geometry.polygon.Polygon object at 0x7f86cf441550>, <shapely.geometry.polygon.Polygon object at 0x7f86cf4415b0>, <shapely.geometry.polygon.Polygon object at 0x7f86cf441610>, <shapely.geometry.polygon.Polygon object at 0x7f86cf441670>, <shapely.geometry.polygon.Polygon object at 0x7f86cf4416d0>, <shapely.geometry.polygon.Polygon object at 0x7f86cf441730>, <shapely.geometry.polygon.Polygon object at 0x7f86cf441790>, <shapely.geometry.polygon.Polygon object at 0x7f86cf4417f0>, <shapely.geometry.polygon.Polygon object at 0x7f86cf441850>, <shapely.geometry.polygon.Polygon object at 0x7f86cf4418b0>, <shapely.geometry.polygon.Polygon object at 0x7f86cf441910>, <shapely.geometry.polygon.Polygon object at 0x7f86cf441970>, <shapely.geometry.polygon.Polygon object at 0x7f86cf4419d0>, <shapely.geometry.polygon.Polygon object at 0x7f86cf441a30>, <shapely.geometry.polygon.Polygon object at 0x7f86cf441a90>, <shapely.geometry.polygon.Polygon object at 0x7f86cf441af0>, <shapely.geometry.polygon.Polygon object at 0x7f86cf441b50>, <shapely.geometry.polygon.Polygon object at 0x7f86cf441bb0>, <shapely.geometry.polygon.Polygon object at 0x7f86cf441c10>, <shapely.geometry.polygon.Polygon object at 0x7f86cf441c70>, <shapely.geometry.polygon.Polygon object at 0x7f86cf441cd0>, <shapely.geometry.polygon.Polygon object at 0x7f86cf441d30>, <shapely.geometry.polygon.Polygon object at 0x7f86cf441d90>, <shapely.geometry.polygon.Polygon object at 0x7f86cf441df0>, <shapely.geometry.polygon.Polygon object at 0x7f86cf441e50>, <shapely.geometry.polygon.Polygon object at 0x7f86cf441eb0>, <shapely.geometry.polygon.Polygon object at 0x7f86cf441f10>, <shapely.geometry.polygon.Polygon object at 0x7f86cf441f70>, <shapely.geometry.polygon.Polygon object at 0x7f86cf441fd0>, <shapely.geometry.polygon.Polygon object at 0x7f86cf444070>, <shapely.geometry.polygon.Polygon object at 0x7f86cf4440d0>, <shapely.geometry.polygon.Polygon object at 0x7f86cf444130>, <shapely.geometry.polygon.Polygon object at 0x7f86cf444190>, <shapely.geometry.polygon.Polygon object at 0x7f86cf4441f0>, <shapely.geometry.polygon.Polygon object at 0x7f86cf444250>, <shapely.geometry.polygon.Polygon object at 0x7f86cf4442b0>, <shapely.geometry.polygon.Polygon object at 0x7f86cf444310>, <shapely.geometry.polygon.Polygon object at 0x7f86cf444370>, <shapely.geometry.polygon.Polygon object at 0x7f86cf4443d0>]\n"
     ]
    }
   ],
   "source": [
    "gt_polygons = read_geopolygons_from_file(gt_shp_file)\n",
    "\n",
    "print(gt_polygons)\n"
   ],
   "metadata": {
    "collapsed": false,
    "pycharm": {
     "name": "#%%\n"
    }
   }
  },
  {
   "cell_type": "code",
   "execution_count": 4,
   "outputs": [
    {
     "name": "stdout",
     "output_type": "stream",
     "text": [
      "[<shapely.geometry.polygon.Polygon object at 0x7f86cf4448e0>, <shapely.geometry.polygon.Polygon object at 0x7f86cf444880>, <shapely.geometry.polygon.Polygon object at 0x7f86cf4447f0>, <shapely.geometry.polygon.Polygon object at 0x7f86cf444580>, <shapely.geometry.polygon.Polygon object at 0x7f86cf4449d0>, <shapely.geometry.polygon.Polygon object at 0x7f86cf444a30>, <shapely.geometry.polygon.Polygon object at 0x7f86cf444a90>, <shapely.geometry.polygon.Polygon object at 0x7f86cf444af0>, <shapely.geometry.polygon.Polygon object at 0x7f86cf444b50>, <shapely.geometry.polygon.Polygon object at 0x7f86cf444bb0>, <shapely.geometry.polygon.Polygon object at 0x7f86cf444c10>, <shapely.geometry.polygon.Polygon object at 0x7f86cf444c70>, <shapely.geometry.polygon.Polygon object at 0x7f86cf444cd0>, <shapely.geometry.polygon.Polygon object at 0x7f86cf444d30>, <shapely.geometry.polygon.Polygon object at 0x7f86cf444d90>, <shapely.geometry.polygon.Polygon object at 0x7f86cf444df0>, <shapely.geometry.polygon.Polygon object at 0x7f86cf444e50>, <shapely.geometry.polygon.Polygon object at 0x7f86cf444eb0>, <shapely.geometry.polygon.Polygon object at 0x7f86cf444f10>, <shapely.geometry.polygon.Polygon object at 0x7f86cf444f70>, <shapely.geometry.polygon.Polygon object at 0x7f86cf444fd0>, <shapely.geometry.polygon.Polygon object at 0x7f86cf450070>, <shapely.geometry.polygon.Polygon object at 0x7f86cf4500a0>, <shapely.geometry.polygon.Polygon object at 0x7f86cf450130>, <shapely.geometry.polygon.Polygon object at 0x7f86cf450190>, <shapely.geometry.polygon.Polygon object at 0x7f86cf4501f0>, <shapely.geometry.polygon.Polygon object at 0x7f86cf450250>, <shapely.geometry.polygon.Polygon object at 0x7f86cf4502b0>, <shapely.geometry.polygon.Polygon object at 0x7f86cf450310>, <shapely.geometry.polygon.Polygon object at 0x7f86cf450370>, <shapely.geometry.polygon.Polygon object at 0x7f86cf4503d0>, <shapely.geometry.polygon.Polygon object at 0x7f86cf450430>, <shapely.geometry.polygon.Polygon object at 0x7f86cf450490>, <shapely.geometry.polygon.Polygon object at 0x7f86cf4504f0>, <shapely.geometry.polygon.Polygon object at 0x7f86cf450550>, <shapely.geometry.polygon.Polygon object at 0x7f86cf4505b0>, <shapely.geometry.polygon.Polygon object at 0x7f86cf450610>, <shapely.geometry.polygon.Polygon object at 0x7f86cf450670>, <shapely.geometry.polygon.Polygon object at 0x7f86cf4506d0>, <shapely.geometry.polygon.Polygon object at 0x7f86cf450730>, <shapely.geometry.polygon.Polygon object at 0x7f86cf450790>, <shapely.geometry.polygon.Polygon object at 0x7f86cf4507f0>, <shapely.geometry.polygon.Polygon object at 0x7f86cf450850>, <shapely.geometry.polygon.Polygon object at 0x7f86cf4508b0>, <shapely.geometry.polygon.Polygon object at 0x7f86cf450910>, <shapely.geometry.polygon.Polygon object at 0x7f86cf450970>, <shapely.geometry.polygon.Polygon object at 0x7f86cf4509d0>, <shapely.geometry.polygon.Polygon object at 0x7f86cf450a30>, <shapely.geometry.polygon.Polygon object at 0x7f86cf450a90>, <shapely.geometry.polygon.Polygon object at 0x7f86cf450af0>, <shapely.geometry.polygon.Polygon object at 0x7f86cf450b50>, <shapely.geometry.polygon.Polygon object at 0x7f86cf450bb0>, <shapely.geometry.polygon.Polygon object at 0x7f86cf450c10>, <shapely.geometry.polygon.Polygon object at 0x7f86cf450c70>, <shapely.geometry.polygon.Polygon object at 0x7f86cf450cd0>, <shapely.geometry.polygon.Polygon object at 0x7f86cf450d30>, <shapely.geometry.polygon.Polygon object at 0x7f86cf450d90>, <shapely.geometry.polygon.Polygon object at 0x7f86cf450df0>, <shapely.geometry.polygon.Polygon object at 0x7f86cf450e50>, <shapely.geometry.polygon.Polygon object at 0x7f86cf450eb0>, <shapely.geometry.polygon.Polygon object at 0x7f86cf450f10>, <shapely.geometry.polygon.Polygon object at 0x7f86cf450f70>, <shapely.geometry.polygon.Polygon object at 0x7f86cf450fd0>, <shapely.geometry.polygon.Polygon object at 0x7f86cf44c070>, <shapely.geometry.polygon.Polygon object at 0x7f86cf44c0d0>, <shapely.geometry.polygon.Polygon object at 0x7f86cf44c130>, <shapely.geometry.polygon.Polygon object at 0x7f86cf44c190>, <shapely.geometry.polygon.Polygon object at 0x7f86cf44c1f0>, <shapely.geometry.polygon.Polygon object at 0x7f86cf44c250>, <shapely.geometry.polygon.Polygon object at 0x7f86cf44c2b0>, <shapely.geometry.polygon.Polygon object at 0x7f86cf44c310>, <shapely.geometry.polygon.Polygon object at 0x7f86cf44c370>, <shapely.geometry.polygon.Polygon object at 0x7f86cf44c3d0>, <shapely.geometry.polygon.Polygon object at 0x7f86cf44c430>, <shapely.geometry.polygon.Polygon object at 0x7f86cf44c490>, <shapely.geometry.polygon.Polygon object at 0x7f86cf44c4f0>, <shapely.geometry.polygon.Polygon object at 0x7f86cf44c550>, <shapely.geometry.polygon.Polygon object at 0x7f86cf44c5b0>, <shapely.geometry.polygon.Polygon object at 0x7f86cf44c610>, <shapely.geometry.polygon.Polygon object at 0x7f86cf44c670>, <shapely.geometry.polygon.Polygon object at 0x7f86cf44c6d0>, <shapely.geometry.polygon.Polygon object at 0x7f86cf44c730>, <shapely.geometry.polygon.Polygon object at 0x7f86cf44c790>, <shapely.geometry.polygon.Polygon object at 0x7f86cf44c7f0>, <shapely.geometry.polygon.Polygon object at 0x7f86cf44c850>, <shapely.geometry.polygon.Polygon object at 0x7f86cf44c8b0>]\n"
     ]
    }
   ],
   "source": [
    "pred_polygones = read_geopolygons_from_file(pred_shp_file)\n",
    "\n",
    "print(pred_polygones)\n"
   ],
   "metadata": {
    "collapsed": false,
    "pycharm": {
     "name": "#%%\n"
    }
   }
  },
  {
   "cell_type": "code",
   "execution_count": 5,
   "outputs": [
    {
     "data": {
      "text/plain": "(0.65625, 'True Positive = 63, False Negative = 43, False Positive = 23\\n')"
     },
     "execution_count": 5,
     "metadata": {},
     "output_type": "execute_result"
    }
   ],
   "source": [
    "instance_f1_score(gt_polygons, pred_polygones, _format='vector')\n"
   ],
   "metadata": {
    "collapsed": false,
    "pycharm": {
     "name": "#%%\n"
    }
   }
  }
 ],
 "metadata": {
  "kernelspec": {
   "display_name": "Python 3",
   "language": "python",
   "name": "python3"
  },
  "language_info": {
   "codemirror_mode": {
    "name": "ipython",
    "version": 2
   },
   "file_extension": ".py",
   "mimetype": "text/x-python",
   "name": "python",
   "nbconvert_exporter": "python",
   "pygments_lexer": "ipython2",
   "version": "2.7.6"
  }
 },
 "nbformat": 4,
 "nbformat_minor": 0
}